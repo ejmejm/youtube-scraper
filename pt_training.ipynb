{
 "cells": [
  {
   "cell_type": "code",
   "execution_count": 2,
   "metadata": {},
   "outputs": [],
   "source": [
    "# Goals\n",
    "# - Predict views with just thumbnails and time since upload\n",
    "# - Predict which of two thumbnails will do better\n",
    "# - Predict views using everything\n",
    "#\n",
    "#\n",
    "# Implementation steps:\n",
    "# 1. Scrape data form YT videos\n",
    "# 2. Scrape stats from channels\n",
    "# 3. Download thumbnails\n",
    "# 4. Download videos\n",
    "# 5. Run a feature extractor over thumbnails\n",
    "# 6. Run a feature extractor over videos (video and audio)\n",
    "# 7. Create an EDA\n",
    "# 8. Create a preprocessor and dataloader for all data\n",
    "# 9. Create the regression model\n",
    "# 10. Train the model\n",
    "# 11. Test the model"
   ]
  },
  {
   "cell_type": "code",
   "execution_count": 123,
   "metadata": {},
   "outputs": [],
   "source": [
    "import pickle\n",
    "import warnings\n",
    "\n",
    "import numpy as np\n",
    "import pandas as pd\n",
    "from sklearn.preprocessing import StandardScaler\n",
    "from sklearn.model_selection import train_test_split\n",
    "import torch\n",
    "from torch.utils.data import Dataset, random_split\n",
    "\n",
    "from prepare_data import yt_label_to_datetime\n",
    "\n",
    "DEVICE = 'cuda:0'"
   ]
  },
  {
   "cell_type": "code",
   "execution_count": 25,
   "metadata": {},
   "outputs": [],
   "source": [
    "# Load the data\n",
    "df = pd.read_csv('data/full_data.csv', parse_dates=['channel_scrape_date', 'scrape_date', 'date'])\n",
    "\n",
    "# Read the pickle from \"data/thumbnail_features.pkl\"\n",
    "with open('data/thumbnail_features.pkl', 'rb') as f:\n",
    "    thumbnail_feature_idxs, thumbnail_features = pickle.load(f)\n",
    "# Order the features according to the df ordering\n",
    "tf_map = {i: f for i, f in zip(thumbnail_feature_idxs, thumbnail_features)}\n",
    "thumbnail_features = np.array([tf_map[i] for i in df['feature_id']])"
   ]
  },
  {
   "cell_type": "code",
   "execution_count": 5,
   "metadata": {},
   "outputs": [
    {
     "data": {
      "text/plain": [
       "Index(['feature_id', 'thumbnail_link', 'view_count', 'date', 'video_title',\n",
       "       'video_description', 'subscriber_count', 'likes', 'scrape_date',\n",
       "       'channel_name', 'channel_link', 'video_url', 'vid_page_titles',\n",
       "       'vid_page_upload_date', 'vid_page_views', 'channel_scrape_date',\n",
       "       'time_up'],\n",
       "      dtype='object')"
      ]
     },
     "execution_count": 5,
     "metadata": {},
     "output_type": "execute_result"
    }
   ],
   "source": [
    "df.columns"
   ]
  },
  {
   "cell_type": "code",
   "execution_count": 6,
   "metadata": {},
   "outputs": [],
   "source": [
    "def reconstruct_list(list_str, convert_func):\n",
    "    if list_str[-2] == ',':\n",
    "        list_str = list_str[:-1]\n",
    "    list_str = list_str[1:-1]\n",
    "\n",
    "    return list(convert_func(x) for x in list_str.split(', '))\n",
    "\n",
    "def reconstruct_str_list(list_str, convert_func):\n",
    "    if list_str[-2] == ',':\n",
    "        list_str = list_str[:-1]\n",
    "    list_str = list_str[2:-2]\n",
    "\n",
    "    return list(convert_func(x) if x != '' else None for x in list_str.split(\"', '\"))"
   ]
  },
  {
   "cell_type": "code",
   "execution_count": 7,
   "metadata": {},
   "outputs": [],
   "source": [
    "upload_dates = df.apply(\n",
    "    lambda x: reconstruct_str_list(\n",
    "            x['vid_page_upload_date'],\n",
    "            convert_func=lambda y: yt_label_to_datetime(y, x['channel_scrape_date'])),\n",
    "    axis=1)\n",
    "\n",
    "vid_page_time_up = [[(sd - vd).total_seconds() if vd is not None else None for vd in vds] for vds, sd in zip(upload_dates, df['scrape_date'].values)]\n",
    "MONTH_IN_SECONDS = 60 * 60 * 24 * 30\n",
    "keep_mask = [[t is not None and (0 <= t <= MONTH_IN_SECONDS) for t in ts] \\\n",
    "    for ts in vid_page_time_up]\n",
    "\n",
    "vid_page_views = df['vid_page_views'].apply(reconstruct_list, convert_func=int)"
   ]
  },
  {
   "cell_type": "code",
   "execution_count": 8,
   "metadata": {},
   "outputs": [],
   "source": [
    "vid_page_views_std = vid_page_views.apply(lambda x: np.array(x).std())"
   ]
  },
  {
   "cell_type": "code",
   "execution_count": 9,
   "metadata": {},
   "outputs": [
    {
     "data": {
      "text/plain": [
       "0        4.139572e+05\n",
       "1        4.821486e+06\n",
       "2        3.818782e+04\n",
       "3        4.806163e+06\n",
       "4        4.139572e+05\n",
       "             ...     \n",
       "16531    2.086159e+05\n",
       "16532    1.485356e+06\n",
       "16533    1.620850e+06\n",
       "16534    1.550371e+06\n",
       "16535    8.497391e+04\n",
       "Name: vid_page_views, Length: 16536, dtype: float64"
      ]
     },
     "execution_count": 9,
     "metadata": {},
     "output_type": "execute_result"
    }
   ],
   "source": [
    "vid_page_views_std"
   ]
  },
  {
   "cell_type": "code",
   "execution_count": 10,
   "metadata": {},
   "outputs": [
    {
     "ename": "NameError",
     "evalue": "name 'apply_2d_mask' is not defined",
     "output_type": "error",
     "traceback": [
      "\u001b[1;31m---------------------------------------------------------------------------\u001b[0m",
      "\u001b[1;31mNameError\u001b[0m                                 Traceback (most recent call last)",
      "\u001b[1;32m<ipython-input-10-7b9e8b221beb>\u001b[0m in \u001b[0;36m<module>\u001b[1;34m\u001b[0m\n\u001b[1;32m----> 1\u001b[1;33m \u001b[0mapply_2d_mask\u001b[0m\u001b[1;33m(\u001b[0m\u001b[0mvid_page_time_up\u001b[0m\u001b[1;33m,\u001b[0m \u001b[0mkeep_mask\u001b[0m\u001b[1;33m)\u001b[0m\u001b[1;33m\u001b[0m\u001b[1;33m\u001b[0m\u001b[0m\n\u001b[0m",
      "\u001b[1;31mNameError\u001b[0m: name 'apply_2d_mask' is not defined"
     ]
    }
   ],
   "source": [
    "apply_2d_mask(vid_page_time_up, keep_mask)"
   ]
  },
  {
   "cell_type": "code",
   "execution_count": 22,
   "metadata": {},
   "outputs": [
    {
     "data": {
      "text/plain": [
       "(17,)"
      ]
     },
     "execution_count": 22,
     "metadata": {},
     "output_type": "execute_result"
    }
   ],
   "source": [
    "np.concatenate([np.array(x).reshape(-1) for x in df.iloc[0].values]).shape"
   ]
  },
  {
   "cell_type": "code",
   "execution_count": null,
   "metadata": {},
   "outputs": [],
   "source": [
    "# Features\n",
    "# thumbnail_embeddings, log_time_up, video_title,\n",
    "# video_description (truncated), log_subscriber_count,\n",
    "# log avg views over the month, views log std over the month,\n",
    "# num of videos in the last month"
   ]
  },
  {
   "cell_type": "code",
   "execution_count": null,
   "metadata": {},
   "outputs": [],
   "source": []
  },
  {
   "cell_type": "code",
   "execution_count": 108,
   "metadata": {},
   "outputs": [],
   "source": [
    "MONTH_IN_SECONDS = 60 * 60 * 24 * 30\n",
    "\n",
    "def apply_2d_mask(list_2d, mask):\n",
    "    return [[x for x, k in zip(l, m) if k] for l, m in zip(list_2d, mask)]\n",
    "\n",
    "class VideoInfoDataset(Dataset):\n",
    "    def __init__(self, ref_df, thumbnail_embeds):\n",
    "        min_n_videos = 5\n",
    "        self.thumbnail_embeds = thumbnail_embeds\n",
    "        \n",
    "        self.df = pd.DataFrame()\n",
    "        self.df['thumbnail_embeds'] = list(thumbnail_embeds)\n",
    "        self.df['log_view_count'] = np.log(ref_df['view_count'].values + 1)\n",
    "        self.df['log_time_up'] = np.log(ref_df['time_up'].values + 1)\n",
    "        self.df['log_subscriber_count'] = np.log(ref_df['subscriber_count'].values + 1)\n",
    "\n",
    "        # Use the dates to determine which to keep\n",
    "        upload_dates = ref_df.apply(\n",
    "            lambda x: reconstruct_str_list(\n",
    "                    x['vid_page_upload_date'],\n",
    "                    convert_func=lambda y: yt_label_to_datetime(y, x['channel_scrape_date'])),\n",
    "            axis=1)\n",
    "        vid_page_time_up = [[(sd - vd).total_seconds() if vd is not None else None for vd in vds] \\\n",
    "            for vds, sd in zip(upload_dates, ref_df['scrape_date'].values)]\n",
    "        keep_mask = [[t is not None and (0 <= t <= MONTH_IN_SECONDS) for t in ts] \\\n",
    "            for ts in vid_page_time_up]\n",
    "        \n",
    "        self.df['vid_page_views'] = ref_df['vid_page_views'].apply(reconstruct_list, convert_func=int)\n",
    "        self.df['vid_page_views'] = apply_2d_mask(self.df['vid_page_views'], keep_mask)\n",
    "        self.df['vid_page_log_views'] = self.df['vid_page_views'].apply(lambda x: [np.log(e + 1) for e in x])\n",
    "\n",
    "        # Add more feature columns\n",
    "        self.df['month_avg_log_views'] = self.df['vid_page_log_views'].apply(np.mean)\n",
    "        self.df['month_std_log_views'] = self.df['vid_page_log_views'].apply(np.std)\n",
    "        self.df['month_n_videos'] = self.df['vid_page_views'].apply(len)\n",
    "\n",
    "        # Drop non-feature columns\n",
    "        self.df.drop(['vid_page_views', 'vid_page_log_views'], axis=1, inplace=True)\n",
    "        self.df = self.df[self.df['month_n_videos'] >= min_n_videos]\n",
    "\n",
    "        self.scalers = None\n",
    "        self.standardized = False\n",
    "\n",
    "    def standardize(self, scalers=None):\n",
    "        if self.standardized:\n",
    "            warnings.warn('Dataset had already been standardized!')\n",
    "\n",
    "        if scalers is None and self.scalers is None:\n",
    "            scalers = {}\n",
    "            for col in self.df.columns:\n",
    "                scalers[col] = StandardScaler()\n",
    "                if col == 'thumbnail_embeds':\n",
    "                    scalers[col].fit(np.stack(self.df[col].values))\n",
    "                else:\n",
    "                    scalers[col].fit(self.df[col].values.reshape(-1, 1))\n",
    "            self.scalers = scalers\n",
    "        elif self.scalers:\n",
    "            scalers = self.scalers\n",
    "\n",
    "        for col in self.df.columns:\n",
    "            if col == 'thumbnail_embeds':\n",
    "                self.df[col] = scalers[col].transform(np.stack(self.df[col].values))\n",
    "            else:\n",
    "                self.df[col] = scalers[col].transform(self.df[col].values.reshape(-1, 1))\n",
    "        self.standardized = True\n",
    "\n",
    "    def get_scalers(self):\n",
    "        return self.scalers\n",
    "\n",
    "    def __len__(self):\n",
    "        return len(self.df)\n",
    "\n",
    "    def __getitem__(self, idx):\n",
    "        row = self.df.iloc[idx]\n",
    "        target = np.array(row['log_view_count'])\n",
    "        row = row.drop('log_view_count')\n",
    "        features = np.concatenate([np.array(x).reshape(-1) for x in row.values])\n",
    "        return features, target"
   ]
  },
  {
   "cell_type": "code",
   "execution_count": null,
   "metadata": {},
   "outputs": [],
   "source": [
    "class RegressionModel(nn.Module)"
   ]
  },
  {
   "cell_type": "code",
   "execution_count": 124,
   "metadata": {},
   "outputs": [
    {
     "name": "stderr",
     "output_type": "stream",
     "text": [
      "C:\\Users\\ninja\\.conda\\envs\\ml2\\lib\\site-packages\\numpy\\core\\fromnumeric.py:3440: RuntimeWarning: Mean of empty slice.\n",
      "  return _methods._mean(a, axis=axis, dtype=dtype,\n",
      "C:\\Users\\ninja\\.conda\\envs\\ml2\\lib\\site-packages\\numpy\\core\\_methods.py:262: RuntimeWarning: Degrees of freedom <= 0 for slice\n",
      "  ret = _var(a, axis=axis, dtype=dtype, out=out, ddof=ddof,\n"
     ]
    }
   ],
   "source": [
    "vi_datastet = VideoInfoDataset(df, thumbnail_features)\n",
    "\n",
    "# Create dataloaders for training, validation, and test sets\n",
    "train_size = int(0.8 * len(vi_datastet))\n",
    "val_size = int(0.05 * len(vi_datastet))\n",
    "test_size = len(vi_datastet) - train_size - val_size\n",
    "\n",
    "train_dataset, val_dataset, test_dataset = \\\n",
    "    random_split(vi_datastet, [train_size, val_size, test_size])"
   ]
  },
  {
   "cell_type": "code",
   "execution_count": 125,
   "metadata": {},
   "outputs": [],
   "source": [
    "# Parameters\n",
    "n_epochs = 10\n",
    "batch_size = 16\n",
    "lr = 0.001\n",
    "print_freq = 8"
   ]
  },
  {
   "cell_type": "code",
   "execution_count": 110,
   "metadata": {},
   "outputs": [
    {
     "data": {
      "text/plain": [
       "(12021, 2048)"
      ]
     },
     "execution_count": 110,
     "metadata": {},
     "output_type": "execute_result"
    }
   ],
   "source": [
    "np.stack(ds.df['thumbnail_embeds'].values).shape"
   ]
  },
  {
   "cell_type": "code",
   "execution_count": 111,
   "metadata": {},
   "outputs": [],
   "source": [
    "ds.standardize()"
   ]
  },
  {
   "cell_type": "code",
   "execution_count": 121,
   "metadata": {},
   "outputs": [
    {
     "data": {
      "text/plain": [
       "(array([-0.23857889, -0.46276288,  0.72708339, -0.32128662,  1.20306019,\n",
       "         0.42109761]),\n",
       " array(-0.21136625))"
      ]
     },
     "execution_count": 121,
     "metadata": {},
     "output_type": "execute_result"
    }
   ],
   "source": [
    "next(iter(ds))"
   ]
  },
  {
   "cell_type": "code",
   "execution_count": 62,
   "metadata": {},
   "outputs": [
    {
     "data": {
      "text/html": [
       "<div>\n",
       "<style scoped>\n",
       "    .dataframe tbody tr th:only-of-type {\n",
       "        vertical-align: middle;\n",
       "    }\n",
       "\n",
       "    .dataframe tbody tr th {\n",
       "        vertical-align: top;\n",
       "    }\n",
       "\n",
       "    .dataframe thead th {\n",
       "        text-align: right;\n",
       "    }\n",
       "</style>\n",
       "<table border=\"1\" class=\"dataframe\">\n",
       "  <thead>\n",
       "    <tr style=\"text-align: right;\">\n",
       "      <th></th>\n",
       "      <th>log_time_up</th>\n",
       "      <th>log_subscriber_count</th>\n",
       "      <th>month_avg_log_views</th>\n",
       "      <th>month_std_log_views</th>\n",
       "      <th>month_n_videos</th>\n",
       "    </tr>\n",
       "  </thead>\n",
       "  <tbody>\n",
       "    <tr>\n",
       "      <th>0</th>\n",
       "      <td>12.059896</td>\n",
       "      <td>15.957927</td>\n",
       "      <td>10.972606</td>\n",
       "      <td>1.252298</td>\n",
       "      <td>24</td>\n",
       "    </tr>\n",
       "    <tr>\n",
       "      <th>1</th>\n",
       "      <td>16.694619</td>\n",
       "      <td>16.222456</td>\n",
       "      <td>15.695769</td>\n",
       "      <td>0.494305</td>\n",
       "      <td>6</td>\n",
       "    </tr>\n",
       "    <tr>\n",
       "      <th>4</th>\n",
       "      <td>12.059896</td>\n",
       "      <td>15.957927</td>\n",
       "      <td>10.972606</td>\n",
       "      <td>1.252298</td>\n",
       "      <td>24</td>\n",
       "    </tr>\n",
       "    <tr>\n",
       "      <th>5</th>\n",
       "      <td>13.851651</td>\n",
       "      <td>16.997722</td>\n",
       "      <td>10.911854</td>\n",
       "      <td>0.671872</td>\n",
       "      <td>23</td>\n",
       "    </tr>\n",
       "    <tr>\n",
       "      <th>7</th>\n",
       "      <td>17.817213</td>\n",
       "      <td>15.957927</td>\n",
       "      <td>10.972606</td>\n",
       "      <td>1.252298</td>\n",
       "      <td>24</td>\n",
       "    </tr>\n",
       "    <tr>\n",
       "      <th>...</th>\n",
       "      <td>...</td>\n",
       "      <td>...</td>\n",
       "      <td>...</td>\n",
       "      <td>...</td>\n",
       "      <td>...</td>\n",
       "    </tr>\n",
       "    <tr>\n",
       "      <th>16531</th>\n",
       "      <td>13.312655</td>\n",
       "      <td>15.490736</td>\n",
       "      <td>13.251888</td>\n",
       "      <td>0.334915</td>\n",
       "      <td>29</td>\n",
       "    </tr>\n",
       "    <tr>\n",
       "      <th>16532</th>\n",
       "      <td>18.110802</td>\n",
       "      <td>14.538217</td>\n",
       "      <td>14.482662</td>\n",
       "      <td>0.504680</td>\n",
       "      <td>13</td>\n",
       "    </tr>\n",
       "    <tr>\n",
       "      <th>16533</th>\n",
       "      <td>15.697476</td>\n",
       "      <td>16.791040</td>\n",
       "      <td>15.132463</td>\n",
       "      <td>0.375633</td>\n",
       "      <td>29</td>\n",
       "    </tr>\n",
       "    <tr>\n",
       "      <th>16534</th>\n",
       "      <td>12.465359</td>\n",
       "      <td>14.950134</td>\n",
       "      <td>14.521274</td>\n",
       "      <td>0.373907</td>\n",
       "      <td>14</td>\n",
       "    </tr>\n",
       "    <tr>\n",
       "      <th>16535</th>\n",
       "      <td>12.059896</td>\n",
       "      <td>13.981026</td>\n",
       "      <td>12.155568</td>\n",
       "      <td>0.511058</td>\n",
       "      <td>29</td>\n",
       "    </tr>\n",
       "  </tbody>\n",
       "</table>\n",
       "<p>12021 rows × 5 columns</p>\n",
       "</div>"
      ],
      "text/plain": [
       "       log_time_up  log_subscriber_count  month_avg_log_views  \\\n",
       "0        12.059896             15.957927            10.972606   \n",
       "1        16.694619             16.222456            15.695769   \n",
       "4        12.059896             15.957927            10.972606   \n",
       "5        13.851651             16.997722            10.911854   \n",
       "7        17.817213             15.957927            10.972606   \n",
       "...            ...                   ...                  ...   \n",
       "16531    13.312655             15.490736            13.251888   \n",
       "16532    18.110802             14.538217            14.482662   \n",
       "16533    15.697476             16.791040            15.132463   \n",
       "16534    12.465359             14.950134            14.521274   \n",
       "16535    12.059896             13.981026            12.155568   \n",
       "\n",
       "       month_std_log_views  month_n_videos  \n",
       "0                 1.252298              24  \n",
       "1                 0.494305               6  \n",
       "4                 1.252298              24  \n",
       "5                 0.671872              23  \n",
       "7                 1.252298              24  \n",
       "...                    ...             ...  \n",
       "16531             0.334915              29  \n",
       "16532             0.504680              13  \n",
       "16533             0.375633              29  \n",
       "16534             0.373907              14  \n",
       "16535             0.511058              29  \n",
       "\n",
       "[12021 rows x 5 columns]"
      ]
     },
     "execution_count": 62,
     "metadata": {},
     "output_type": "execute_result"
    }
   ],
   "source": [
    "ds.df[ds.df['month_n_videos'] >= 5]"
   ]
  },
  {
   "cell_type": "code",
   "execution_count": 24,
   "metadata": {},
   "outputs": [
    {
     "ename": "NameError",
     "evalue": "name 'torch' is not defined",
     "output_type": "error",
     "traceback": [
      "\u001b[1;31m---------------------------------------------------------------------------\u001b[0m",
      "\u001b[1;31mNameError\u001b[0m                                 Traceback (most recent call last)",
      "\u001b[1;32m<ipython-input-24-a49ee57f55a7>\u001b[0m in \u001b[0;36m<module>\u001b[1;34m\u001b[0m\n\u001b[0;32m      1\u001b[0m \u001b[0mtf_map\u001b[0m \u001b[1;33m=\u001b[0m \u001b[1;33m{\u001b[0m\u001b[0mi\u001b[0m\u001b[1;33m:\u001b[0m \u001b[0mf\u001b[0m \u001b[1;32mfor\u001b[0m \u001b[0mi\u001b[0m\u001b[1;33m,\u001b[0m \u001b[0mf\u001b[0m \u001b[1;32min\u001b[0m \u001b[0mzip\u001b[0m\u001b[1;33m(\u001b[0m\u001b[0mthumbnail_feature_idxs\u001b[0m\u001b[1;33m,\u001b[0m \u001b[0mthumbnail_features\u001b[0m\u001b[1;33m)\u001b[0m\u001b[1;33m}\u001b[0m\u001b[1;33m\u001b[0m\u001b[1;33m\u001b[0m\u001b[0m\n\u001b[0;32m      2\u001b[0m \u001b[0mX\u001b[0m \u001b[1;33m=\u001b[0m \u001b[1;33m[\u001b[0m\u001b[0mtf_map\u001b[0m\u001b[1;33m[\u001b[0m\u001b[0mi\u001b[0m\u001b[1;33m]\u001b[0m \u001b[1;32mfor\u001b[0m \u001b[0mi\u001b[0m \u001b[1;32min\u001b[0m \u001b[0mdf\u001b[0m\u001b[1;33m[\u001b[0m\u001b[1;34m'feature_id'\u001b[0m\u001b[1;33m]\u001b[0m\u001b[1;33m]\u001b[0m\u001b[1;33m\u001b[0m\u001b[1;33m\u001b[0m\u001b[0m\n\u001b[1;32m----> 3\u001b[1;33m \u001b[0mX\u001b[0m \u001b[1;33m=\u001b[0m \u001b[0mtorch\u001b[0m\u001b[1;33m.\u001b[0m\u001b[0mtensor\u001b[0m\u001b[1;33m(\u001b[0m\u001b[0mX\u001b[0m\u001b[1;33m,\u001b[0m \u001b[0mdtype\u001b[0m\u001b[1;33m=\u001b[0m\u001b[0mtorch\u001b[0m\u001b[1;33m.\u001b[0m\u001b[0mfloat32\u001b[0m\u001b[1;33m)\u001b[0m\u001b[1;33m\u001b[0m\u001b[1;33m\u001b[0m\u001b[0m\n\u001b[0m\u001b[0;32m      4\u001b[0m \u001b[1;33m\u001b[0m\u001b[0m\n\u001b[0;32m      5\u001b[0m \u001b[0my\u001b[0m \u001b[1;33m=\u001b[0m \u001b[0mnp\u001b[0m\u001b[1;33m.\u001b[0m\u001b[0mlog\u001b[0m\u001b[1;33m(\u001b[0m\u001b[0mdf\u001b[0m\u001b[1;33m[\u001b[0m\u001b[1;34m'view_count'\u001b[0m\u001b[1;33m]\u001b[0m\u001b[1;33m.\u001b[0m\u001b[0mvalues\u001b[0m\u001b[1;33m)\u001b[0m\u001b[1;33m\u001b[0m\u001b[1;33m\u001b[0m\u001b[0m\n",
      "\u001b[1;31mNameError\u001b[0m: name 'torch' is not defined"
     ]
    }
   ],
   "source": [
    "X = torch.tensor(thumbnail_features, dtype=torch.float32)\n",
    "\n",
    "y = np.log(df['view_count'].values)\n",
    "y = torch.tensor(y, dtype=torch.float32)\n",
    "y = y.view(-1, 1)"
   ]
  },
  {
   "cell_type": "code",
   "execution_count": 7,
   "metadata": {},
   "outputs": [],
   "source": [
    "from sklearn import datasets, linear_model\n",
    "from sklearn.ensemble import RandomForestRegressor\n",
    "from sklearn.neural_network import MLPRegressor, MLPClassifier\n",
    "from sklearn.preprocessing import StandardScaler\n",
    "from sklearn.metrics import mean_squared_error, r2_score, accuracy_score\n",
    "from sklearn.model_selection import train_test_split\n",
    "\n",
    "import matplotlib.pyplot as plt\n",
    "import seaborn as sns\n",
    "\n",
    "sns.set()\n",
    "%matplotlib inline"
   ]
  },
  {
   "cell_type": "code",
   "execution_count": 10,
   "metadata": {},
   "outputs": [],
   "source": [
    "n = int(1e6)\n",
    "X_train, X_test, y_train, y_test = train_test_split(X[:n], y[:n], test_size=0.15)"
   ]
  },
  {
   "cell_type": "code",
   "execution_count": 11,
   "metadata": {},
   "outputs": [],
   "source": [
    "scaler = StandardScaler()\n",
    "y_train = scaler.fit_transform(y_train)\n",
    "y_test = scaler.transform(y_test)"
   ]
  },
  {
   "cell_type": "code",
   "execution_count": 12,
   "metadata": {},
   "outputs": [
    {
     "name": "stderr",
     "output_type": "stream",
     "text": [
      "C:\\Users\\ninja\\.conda\\envs\\ml2\\lib\\site-packages\\sklearn\\neural_network\\_multilayer_perceptron.py:1599: DataConversionWarning: A column-vector y was passed when a 1d array was expected. Please change the shape of y to (n_samples, ), for example using ravel().\n",
      "  y = column_or_1d(y, warn=True)\n"
     ]
    },
    {
     "data": {
      "text/plain": [
       "MLPRegressor()"
      ]
     },
     "execution_count": 12,
     "metadata": {},
     "output_type": "execute_result"
    }
   ],
   "source": [
    "model = MLPRegressor()\n",
    "model.fit(X_train, y_train)"
   ]
  },
  {
   "cell_type": "code",
   "execution_count": 13,
   "metadata": {},
   "outputs": [],
   "source": [
    "preds = model.predict(X_test)"
   ]
  },
  {
   "cell_type": "code",
   "execution_count": 14,
   "metadata": {},
   "outputs": [
    {
     "name": "stdout",
     "output_type": "stream",
     "text": [
      "Mean squared error: 1.46\n",
      "Coefficient of determination: -0.43\n"
     ]
    },
    {
     "name": "stderr",
     "output_type": "stream",
     "text": [
      "C:\\Users\\ninja\\.conda\\envs\\ml2\\lib\\site-packages\\seaborn\\_decorators.py:36: FutureWarning: Pass the following variables as keyword args: x, y. From version 0.12, the only valid positional argument will be `data`, and passing other arguments without an explicit keyword will result in an error or misinterpretation.\n",
      "  warnings.warn(\n"
     ]
    },
    {
     "data": {
      "text/plain": [
       "<AxesSubplot:>"
      ]
     },
     "execution_count": 14,
     "metadata": {},
     "output_type": "execute_result"
    },
    {
     "data": {
      "image/png": "[encoded data removed]",
      "text/plain": [
       "<Figure size 432x288 with 1 Axes>"
      ]
     },
     "metadata": {
      "needs_background": "light"
     },
     "output_type": "display_data"
    }
   ],
   "source": [
    "# The mean squared error\n",
    "print(\"Mean squared error: %.2f\" % mean_squared_error(y_test, preds))\n",
    "# The coefficient of determination: 1 is perfect prediction\n",
    "print(\"Coefficient of determination: %.2f\" % r2_score(y_test, preds))\n",
    "\n",
    "# Plot outputs\n",
    "sns.regplot(preds, y_test.reshape(-1))\n",
    "# plt.plot(X_test, preds, color=\"blue\", linewidth=3)"
   ]
  },
  {
   "cell_type": "markdown",
   "metadata": {},
   "source": [
    "### Classifying the better of two thumbnails"
   ]
  },
  {
   "cell_type": "code",
   "execution_count": 16,
   "metadata": {},
   "outputs": [],
   "source": [
    "X_ctrain = X_train\n",
    "if len(X_ctrain) % 2 == 1:\n",
    "    X_ctrain = X_ctrain[:-1]\n",
    "X_ctrain = X_ctrain.view(X_ctrain.shape[0]//2, -1)\n",
    "\n",
    "X_ctest = X_test\n",
    "if len(X_ctest) % 2 == 1:\n",
    "    X_ctest = X_ctest[:-1]\n",
    "X_ctest = X_ctest.view(X_ctest.shape[0]//2, -1)\n",
    "\n",
    "y_ctrain = y_train\n",
    "if len(y_ctrain) % 2 == 1:\n",
    "    y_ctrain = y_ctrain[:-1]\n",
    "y_ctrain = y_ctrain.reshape(y_ctrain.shape[0]//2, -1)\n",
    "y_ctrain = np.array([int(v1 > v2) for v1, v2 in y_ctrain])\n",
    "\n",
    "y_ctest = y_test\n",
    "if len(y_ctest) % 2 == 1:\n",
    "    y_ctest = y_ctest[:-1]\n",
    "y_ctest = y_ctest.reshape(y_ctest.shape[0]//2, -1)\n",
    "y_ctest = np.array([int(v1 > v2) for v1, v2 in y_ctest])"
   ]
  },
  {
   "cell_type": "code",
   "execution_count": 17,
   "metadata": {},
   "outputs": [
    {
     "name": "stdout",
     "output_type": "stream",
     "text": [
      "torch.Size([14670, 2048]) torch.Size([7335, 4096])\n",
      "(14670, 1) (7335,)\n",
      "torch.Size([2589, 2048]) torch.Size([1294, 4096])\n",
      "(2589, 1) (1294,)\n"
     ]
    }
   ],
   "source": [
    "print(X_train.shape, X_ctrain.shape)\n",
    "print(y_train.shape, y_ctrain.shape)\n",
    "\n",
    "print(X_test.shape, X_ctest.shape)\n",
    "print(y_test.shape, y_ctest.shape)"
   ]
  },
  {
   "cell_type": "code",
   "execution_count": 28,
   "metadata": {},
   "outputs": [
    {
     "name": "stdout",
     "output_type": "stream",
     "text": [
      "Regression Comparison Accuracy: 56.72%\n"
     ]
    }
   ],
   "source": [
    "ct_preds = model.predict(X_ctest.reshape(X_ctest.shape[0] * 2, -1))\n",
    "ct_preds = ct_preds.reshape(X_ctest.shape[0], -1)\n",
    "ct_preds = np.array([int(v1 > v2) for v1, v2 in ct_preds])\n",
    "\n",
    "# Regression comparison accuracy\n",
    "print('Regression Comparison Accuracy: {:.2f}%'.format(100 * accuracy_score(y_ctest, ct_preds)))"
   ]
  },
  {
   "cell_type": "code",
   "execution_count": 90,
   "metadata": {},
   "outputs": [],
   "source": [
    "# xscaler = StandardScaler()\n",
    "# X_ctrain = xscaler.fit_transform(X_ctrain)\n",
    "# X_ctest = xscaler.transform(X_ctest)"
   ]
  },
  {
   "cell_type": "code",
   "execution_count": 29,
   "metadata": {},
   "outputs": [
    {
     "name": "stderr",
     "output_type": "stream",
     "text": [
      "C:\\Users\\ninja\\.conda\\envs\\ml2\\lib\\site-packages\\sklearn\\neural_network\\_multilayer_perceptron.py:1109: DataConversionWarning: A column-vector y was passed when a 1d array was expected. Please change the shape of y to (n_samples, ), for example using ravel().\n",
      "  y = column_or_1d(y, warn=True)\n",
      "C:\\Users\\ninja\\.conda\\envs\\ml2\\lib\\site-packages\\sklearn\\neural_network\\_multilayer_perceptron.py:692: ConvergenceWarning: Stochastic Optimizer: Maximum iterations (200) reached and the optimization hasn't converged yet.\n",
      "  warnings.warn(\n"
     ]
    },
    {
     "data": {
      "text/plain": [
       "MLPClassifier()"
      ]
     },
     "execution_count": 29,
     "metadata": {},
     "output_type": "execute_result"
    }
   ],
   "source": [
    "cmodel = MLPClassifier()\n",
    "cmodel.fit(X_ctrain, y_ctrain.reshape(-1, 1))"
   ]
  },
  {
   "cell_type": "code",
   "execution_count": 30,
   "metadata": {},
   "outputs": [],
   "source": [
    "cpreds = cmodel.predict(X_ctest)"
   ]
  },
  {
   "cell_type": "code",
   "execution_count": 31,
   "metadata": {},
   "outputs": [
    {
     "data": {
      "text/plain": [
       "(array([1, 0, 1, 1, 1, 1, 0, 0, 1, 0, 1, 0, 1, 0, 0, 1, 0, 0, 0, 1]),\n",
       " array([1, 0, 0, 0, 1, 0, 0, 1, 0, 1, 1, 0, 1, 1, 0, 1, 0, 1, 1, 0]))"
      ]
     },
     "execution_count": 31,
     "metadata": {},
     "output_type": "execute_result"
    }
   ],
   "source": [
    "y_ctest[:20], cpreds[:20]"
   ]
  },
  {
   "cell_type": "code",
   "execution_count": 32,
   "metadata": {},
   "outputs": [
    {
     "name": "stdout",
     "output_type": "stream",
     "text": [
      "Accuracy: 54.10%\n"
     ]
    }
   ],
   "source": [
    "print('Accuracy: {:.2f}%'.format(100 * accuracy_score(y_ctest, cpreds)))"
   ]
  }
 ],
 "metadata": {
  "interpreter": {
   "hash": "6717cf457fe527f2ad07ab71b4770f157b357bf37d07e7427487ba89b10c0212"
  },
  "kernelspec": {
   "display_name": "Python 3.9.7 64-bit ('ml2': conda)",
   "language": "python",
   "name": "python3"
  },
  "language_info": {
   "codemirror_mode": {
    "name": "ipython",
    "version": 3
   },
   "file_extension": ".py",
   "mimetype": "text/x-python",
   "name": "python",
   "nbconvert_exporter": "python",
   "pygments_lexer": "ipython3",
   "version": "3.9.7"
  },
  "orig_nbformat": 4
 },
 "nbformat": 4,
 "nbformat_minor": 2
}
